{
  "cells": [
    {
      "cell_type": "markdown",
      "metadata": {
        "id": "7qTJYCk0F-H6"
      },
      "source": [
        "# Multiclass Text Classification\n",
        "\n",
        "The dataset used contains sentences that represent an emotion. The goal is to determine emotions based on sentence text using Natural Language Processing (NLP) model with Tensorflow\n"
      ]
    },
    {
      "cell_type": "markdown",
      "metadata": {
        "id": "Toh9KlJMmGEf"
      },
      "source": [
        "# Import Datasets"
      ]
    },
    {
      "cell_type": "code",
      "execution_count": 1,
      "metadata": {
        "colab": {
          "base_uri": "https://localhost:8080/"
        },
        "id": "VfiMErk7GF2w",
        "outputId": "c2d21e7d-181f-42fb-c3f4-be94696ca909"
      },
      "outputs": [
        {
          "output_type": "stream",
          "name": "stderr",
          "text": [
            "[nltk_data] Downloading package stopwords to /root/nltk_data...\n",
            "[nltk_data]   Unzipping corpora/stopwords.zip.\n",
            "[nltk_data] Downloading package punkt to /root/nltk_data...\n",
            "[nltk_data]   Unzipping tokenizers/punkt.zip.\n"
          ]
        }
      ],
      "source": [
        "# Import library\n",
        "import pandas as pd # data preprocessing\n",
        "import tensorflow as tf\n",
        "\n",
        "# data visual\n",
        "import matplotlib.pyplot as plt\n",
        "import seaborn as sns\n",
        "from wordcloud import WordCloud\n",
        "\n",
        "# NLTK\n",
        "import nltk\n",
        "nltk.download('stopwords')\n",
        "nltk.download('punkt')\n",
        "\n",
        "# String processing\n",
        "import re\n",
        "import string"
      ]
    },
    {
      "cell_type": "code",
      "execution_count": 2,
      "metadata": {
        "colab": {
          "base_uri": "https://localhost:8080/",
          "height": 206
        },
        "id": "ntUm7a1OGwPf",
        "outputId": "1e949c84-d540-49b7-f8f3-6597167f8692"
      },
      "outputs": [
        {
          "output_type": "execute_result",
          "data": {
            "text/plain": [
              "                                                Text  Emotion\n",
              "0                            i didnt feel humiliated  sadness\n",
              "1  i can go from feeling so hopeless to so damned...  sadness\n",
              "2   im grabbing a minute to post i feel greedy wrong    anger\n",
              "3  i am ever feeling nostalgic about the fireplac...     love\n",
              "4                               i am feeling grouchy    anger"
            ],
            "text/html": [
              "\n",
              "  <div id=\"df-7e85b886-b12b-4932-8759-136fe1da7d1c\">\n",
              "    <div class=\"colab-df-container\">\n",
              "      <div>\n",
              "<style scoped>\n",
              "    .dataframe tbody tr th:only-of-type {\n",
              "        vertical-align: middle;\n",
              "    }\n",
              "\n",
              "    .dataframe tbody tr th {\n",
              "        vertical-align: top;\n",
              "    }\n",
              "\n",
              "    .dataframe thead th {\n",
              "        text-align: right;\n",
              "    }\n",
              "</style>\n",
              "<table border=\"1\" class=\"dataframe\">\n",
              "  <thead>\n",
              "    <tr style=\"text-align: right;\">\n",
              "      <th></th>\n",
              "      <th>Text</th>\n",
              "      <th>Emotion</th>\n",
              "    </tr>\n",
              "  </thead>\n",
              "  <tbody>\n",
              "    <tr>\n",
              "      <th>0</th>\n",
              "      <td>i didnt feel humiliated</td>\n",
              "      <td>sadness</td>\n",
              "    </tr>\n",
              "    <tr>\n",
              "      <th>1</th>\n",
              "      <td>i can go from feeling so hopeless to so damned...</td>\n",
              "      <td>sadness</td>\n",
              "    </tr>\n",
              "    <tr>\n",
              "      <th>2</th>\n",
              "      <td>im grabbing a minute to post i feel greedy wrong</td>\n",
              "      <td>anger</td>\n",
              "    </tr>\n",
              "    <tr>\n",
              "      <th>3</th>\n",
              "      <td>i am ever feeling nostalgic about the fireplac...</td>\n",
              "      <td>love</td>\n",
              "    </tr>\n",
              "    <tr>\n",
              "      <th>4</th>\n",
              "      <td>i am feeling grouchy</td>\n",
              "      <td>anger</td>\n",
              "    </tr>\n",
              "  </tbody>\n",
              "</table>\n",
              "</div>\n",
              "      <button class=\"colab-df-convert\" onclick=\"convertToInteractive('df-7e85b886-b12b-4932-8759-136fe1da7d1c')\"\n",
              "              title=\"Convert this dataframe to an interactive table.\"\n",
              "              style=\"display:none;\">\n",
              "        \n",
              "  <svg xmlns=\"http://www.w3.org/2000/svg\" height=\"24px\"viewBox=\"0 0 24 24\"\n",
              "       width=\"24px\">\n",
              "    <path d=\"M0 0h24v24H0V0z\" fill=\"none\"/>\n",
              "    <path d=\"M18.56 5.44l.94 2.06.94-2.06 2.06-.94-2.06-.94-.94-2.06-.94 2.06-2.06.94zm-11 1L8.5 8.5l.94-2.06 2.06-.94-2.06-.94L8.5 2.5l-.94 2.06-2.06.94zm10 10l.94 2.06.94-2.06 2.06-.94-2.06-.94-.94-2.06-.94 2.06-2.06.94z\"/><path d=\"M17.41 7.96l-1.37-1.37c-.4-.4-.92-.59-1.43-.59-.52 0-1.04.2-1.43.59L10.3 9.45l-7.72 7.72c-.78.78-.78 2.05 0 2.83L4 21.41c.39.39.9.59 1.41.59.51 0 1.02-.2 1.41-.59l7.78-7.78 2.81-2.81c.8-.78.8-2.07 0-2.86zM5.41 20L4 18.59l7.72-7.72 1.47 1.35L5.41 20z\"/>\n",
              "  </svg>\n",
              "      </button>\n",
              "      \n",
              "  <style>\n",
              "    .colab-df-container {\n",
              "      display:flex;\n",
              "      flex-wrap:wrap;\n",
              "      gap: 12px;\n",
              "    }\n",
              "\n",
              "    .colab-df-convert {\n",
              "      background-color: #E8F0FE;\n",
              "      border: none;\n",
              "      border-radius: 50%;\n",
              "      cursor: pointer;\n",
              "      display: none;\n",
              "      fill: #1967D2;\n",
              "      height: 32px;\n",
              "      padding: 0 0 0 0;\n",
              "      width: 32px;\n",
              "    }\n",
              "\n",
              "    .colab-df-convert:hover {\n",
              "      background-color: #E2EBFA;\n",
              "      box-shadow: 0px 1px 2px rgba(60, 64, 67, 0.3), 0px 1px 3px 1px rgba(60, 64, 67, 0.15);\n",
              "      fill: #174EA6;\n",
              "    }\n",
              "\n",
              "    [theme=dark] .colab-df-convert {\n",
              "      background-color: #3B4455;\n",
              "      fill: #D2E3FC;\n",
              "    }\n",
              "\n",
              "    [theme=dark] .colab-df-convert:hover {\n",
              "      background-color: #434B5C;\n",
              "      box-shadow: 0px 1px 3px 1px rgba(0, 0, 0, 0.15);\n",
              "      filter: drop-shadow(0px 1px 2px rgba(0, 0, 0, 0.3));\n",
              "      fill: #FFFFFF;\n",
              "    }\n",
              "  </style>\n",
              "\n",
              "      <script>\n",
              "        const buttonEl =\n",
              "          document.querySelector('#df-7e85b886-b12b-4932-8759-136fe1da7d1c button.colab-df-convert');\n",
              "        buttonEl.style.display =\n",
              "          google.colab.kernel.accessAllowed ? 'block' : 'none';\n",
              "\n",
              "        async function convertToInteractive(key) {\n",
              "          const element = document.querySelector('#df-7e85b886-b12b-4932-8759-136fe1da7d1c');\n",
              "          const dataTable =\n",
              "            await google.colab.kernel.invokeFunction('convertToInteractive',\n",
              "                                                     [key], {});\n",
              "          if (!dataTable) return;\n",
              "\n",
              "          const docLinkHtml = 'Like what you see? Visit the ' +\n",
              "            '<a target=\"_blank\" href=https://colab.research.google.com/notebooks/data_table.ipynb>data table notebook</a>'\n",
              "            + ' to learn more about interactive tables.';\n",
              "          element.innerHTML = '';\n",
              "          dataTable['output_type'] = 'display_data';\n",
              "          await google.colab.output.renderOutput(dataTable, element);\n",
              "          const docLink = document.createElement('div');\n",
              "          docLink.innerHTML = docLinkHtml;\n",
              "          element.appendChild(docLink);\n",
              "        }\n",
              "      </script>\n",
              "    </div>\n",
              "  </div>\n",
              "  "
            ]
          },
          "metadata": {},
          "execution_count": 2
        }
      ],
      "source": [
        "df = pd.read_csv('/content/Emotion_final.csv')\n",
        "df.head(5)"
      ]
    },
    {
      "cell_type": "markdown",
      "metadata": {
        "id": "t-rnwia-mNFT"
      },
      "source": [
        "# Preprocessing Data"
      ]
    },
    {
      "cell_type": "code",
      "execution_count": 3,
      "metadata": {
        "colab": {
          "base_uri": "https://localhost:8080/"
        },
        "id": "Y8-HhEE6JWJ4",
        "outputId": "6bb4c84c-b9ea-49d4-89b9-d60c88c7bf75"
      },
      "outputs": [
        {
          "output_type": "execute_result",
          "data": {
            "text/plain": [
              "(21459, 2)"
            ]
          },
          "metadata": {},
          "execution_count": 3
        }
      ],
      "source": [
        "# Check the number of rows\n",
        "df.shape"
      ]
    },
    {
      "cell_type": "code",
      "execution_count": 4,
      "metadata": {
        "colab": {
          "base_uri": "https://localhost:8080/"
        },
        "id": "VnVsXRmnLXEO",
        "outputId": "e898498c-29bf-4de1-9a63-911df6d7977a"
      },
      "outputs": [
        {
          "output_type": "stream",
          "name": "stdout",
          "text": [
            "<class 'pandas.core.frame.DataFrame'>\n",
            "RangeIndex: 21459 entries, 0 to 21458\n",
            "Data columns (total 2 columns):\n",
            " #   Column   Non-Null Count  Dtype \n",
            "---  ------   --------------  ----- \n",
            " 0   Text     21459 non-null  object\n",
            " 1   Emotion  21459 non-null  object\n",
            "dtypes: object(2)\n",
            "memory usage: 335.4+ KB\n"
          ]
        }
      ],
      "source": [
        "df.info()"
      ]
    },
    {
      "cell_type": "code",
      "execution_count": 5,
      "metadata": {
        "colab": {
          "base_uri": "https://localhost:8080/",
          "height": 296
        },
        "id": "UNkOytKCgW1q",
        "outputId": "d60d49b6-c942-451c-8904-065c3853fe0d"
      },
      "outputs": [
        {
          "output_type": "execute_result",
          "data": {
            "text/plain": [
              "<matplotlib.axes._subplots.AxesSubplot at 0x7f70b3f7d490>"
            ]
          },
          "metadata": {},
          "execution_count": 5
        },
        {
          "output_type": "display_data",
          "data": {
            "text/plain": [
              "<Figure size 720x288 with 1 Axes>"
            ],
            "image/png": "[encoded data removed]"
          },
          "metadata": {
            "needs_background": "light"
          }
        }
      ],
      "source": [
        "# Visualize the emotion\n",
        "plt.figure(figsize=(10,4))\n",
        "sns.countplot(x=\"Emotion\", data=df)"
      ]
    },
    {
      "cell_type": "code",
      "execution_count": 6,
      "metadata": {
        "colab": {
          "base_uri": "https://localhost:8080/"
        },
        "id": "GDqR5OjAHLJf",
        "outputId": "0459402d-0c18-488f-e498-b9970bce8267"
      },
      "outputs": [
        {
          "output_type": "execute_result",
          "data": {
            "text/plain": [
              "Text       0\n",
              "Emotion    0\n",
              "dtype: int64"
            ]
          },
          "metadata": {},
          "execution_count": 6
        }
      ],
      "source": [
        "# Check the missing value\n",
        "df.isnull().sum()"
      ]
    },
    {
      "cell_type": "code",
      "execution_count": 7,
      "metadata": {
        "id": "idSpcTDAHfqO"
      },
      "outputs": [],
      "source": [
        "# Text preprocessing by eliminating stop words and handling non alphanumeric characters\n",
        "from nltk.corpus import stopwords\n",
        "from nltk.stem import SnowballStemmer\n",
        "\n",
        "def bersih(teks):\n",
        "    stop_words = stopwords.words(\"english\")\n",
        "    teks = re.sub(r'http\\S+', \" \", teks)    # Remove urls\n",
        "    teks = re.sub(r'@\\w+',' ',teks)         # Remove mentions\n",
        "    teks = re.sub(r'#\\w+', ' ', teks)       # Remove hastags\n",
        "    teks = re.sub('r<.*?>',' ', teks)       # Remove html tags\n",
        "    \n",
        "    # Remove stopwords\n",
        "    teks = teks.split()\n",
        "    teks = \" \".join([word for word in teks if not word in stop_words])\n",
        "\n",
        "    for punctuation in string.punctuation:\n",
        "        teks = teks.replace(punctuation, \"\")\n",
        "    \n",
        "    return teks\n",
        "\n",
        "df['Text'] = df['Text'].apply(lambda x: bersih(x))"
      ]
    },
    {
      "cell_type": "code",
      "execution_count": 8,
      "metadata": {
        "colab": {
          "base_uri": "https://localhost:8080/",
          "height": 206
        },
        "id": "p-b2R0dsIBNA",
        "outputId": "5420d047-0c61-419b-e736-91418108275c"
      },
      "outputs": [
        {
          "output_type": "execute_result",
          "data": {
            "text/plain": [
              "                                                Text  Emotion\n",
              "0                              didnt feel humiliated  sadness\n",
              "1  go feeling hopeless damned hopeful around some...  sadness\n",
              "2          im grabbing minute post feel greedy wrong    anger\n",
              "3  ever feeling nostalgic fireplace know still pr...     love\n",
              "4                                    feeling grouchy    anger"
            ],
            "text/html": [
              "\n",
              "  <div id=\"df-5b503af9-bae8-4b1a-80fd-62bb44b19f5b\">\n",
              "    <div class=\"colab-df-container\">\n",
              "      <div>\n",
              "<style scoped>\n",
              "    .dataframe tbody tr th:only-of-type {\n",
              "        vertical-align: middle;\n",
              "    }\n",
              "\n",
              "    .dataframe tbody tr th {\n",
              "        vertical-align: top;\n",
              "    }\n",
              "\n",
              "    .dataframe thead th {\n",
              "        text-align: right;\n",
              "    }\n",
              "</style>\n",
              "<table border=\"1\" class=\"dataframe\">\n",
              "  <thead>\n",
              "    <tr style=\"text-align: right;\">\n",
              "      <th></th>\n",
              "      <th>Text</th>\n",
              "      <th>Emotion</th>\n",
              "    </tr>\n",
              "  </thead>\n",
              "  <tbody>\n",
              "    <tr>\n",
              "      <th>0</th>\n",
              "      <td>didnt feel humiliated</td>\n",
              "      <td>sadness</td>\n",
              "    </tr>\n",
              "    <tr>\n",
              "      <th>1</th>\n",
              "      <td>go feeling hopeless damned hopeful around some...</td>\n",
              "      <td>sadness</td>\n",
              "    </tr>\n",
              "    <tr>\n",
              "      <th>2</th>\n",
              "      <td>im grabbing minute post feel greedy wrong</td>\n",
              "      <td>anger</td>\n",
              "    </tr>\n",
              "    <tr>\n",
              "      <th>3</th>\n",
              "      <td>ever feeling nostalgic fireplace know still pr...</td>\n",
              "      <td>love</td>\n",
              "    </tr>\n",
              "    <tr>\n",
              "      <th>4</th>\n",
              "      <td>feeling grouchy</td>\n",
              "      <td>anger</td>\n",
              "    </tr>\n",
              "  </tbody>\n",
              "</table>\n",
              "</div>\n",
              "      <button class=\"colab-df-convert\" onclick=\"convertToInteractive('df-5b503af9-bae8-4b1a-80fd-62bb44b19f5b')\"\n",
              "              title=\"Convert this dataframe to an interactive table.\"\n",
              "              style=\"display:none;\">\n",
              "        \n",
              "  <svg xmlns=\"http://www.w3.org/2000/svg\" height=\"24px\"viewBox=\"0 0 24 24\"\n",
              "       width=\"24px\">\n",
              "    <path d=\"M0 0h24v24H0V0z\" fill=\"none\"/>\n",
              "    <path d=\"M18.56 5.44l.94 2.06.94-2.06 2.06-.94-2.06-.94-.94-2.06-.94 2.06-2.06.94zm-11 1L8.5 8.5l.94-2.06 2.06-.94-2.06-.94L8.5 2.5l-.94 2.06-2.06.94zm10 10l.94 2.06.94-2.06 2.06-.94-2.06-.94-.94-2.06-.94 2.06-2.06.94z\"/><path d=\"M17.41 7.96l-1.37-1.37c-.4-.4-.92-.59-1.43-.59-.52 0-1.04.2-1.43.59L10.3 9.45l-7.72 7.72c-.78.78-.78 2.05 0 2.83L4 21.41c.39.39.9.59 1.41.59.51 0 1.02-.2 1.41-.59l7.78-7.78 2.81-2.81c.8-.78.8-2.07 0-2.86zM5.41 20L4 18.59l7.72-7.72 1.47 1.35L5.41 20z\"/>\n",
              "  </svg>\n",
              "      </button>\n",
              "      \n",
              "  <style>\n",
              "    .colab-df-container {\n",
              "      display:flex;\n",
              "      flex-wrap:wrap;\n",
              "      gap: 12px;\n",
              "    }\n",
              "\n",
              "    .colab-df-convert {\n",
              "      background-color: #E8F0FE;\n",
              "      border: none;\n",
              "      border-radius: 50%;\n",
              "      cursor: pointer;\n",
              "      display: none;\n",
              "      fill: #1967D2;\n",
              "      height: 32px;\n",
              "      padding: 0 0 0 0;\n",
              "      width: 32px;\n",
              "    }\n",
              "\n",
              "    .colab-df-convert:hover {\n",
              "      background-color: #E2EBFA;\n",
              "      box-shadow: 0px 1px 2px rgba(60, 64, 67, 0.3), 0px 1px 3px 1px rgba(60, 64, 67, 0.15);\n",
              "      fill: #174EA6;\n",
              "    }\n",
              "\n",
              "    [theme=dark] .colab-df-convert {\n",
              "      background-color: #3B4455;\n",
              "      fill: #D2E3FC;\n",
              "    }\n",
              "\n",
              "    [theme=dark] .colab-df-convert:hover {\n",
              "      background-color: #434B5C;\n",
              "      box-shadow: 0px 1px 3px 1px rgba(0, 0, 0, 0.15);\n",
              "      filter: drop-shadow(0px 1px 2px rgba(0, 0, 0, 0.3));\n",
              "      fill: #FFFFFF;\n",
              "    }\n",
              "  </style>\n",
              "\n",
              "      <script>\n",
              "        const buttonEl =\n",
              "          document.querySelector('#df-5b503af9-bae8-4b1a-80fd-62bb44b19f5b button.colab-df-convert');\n",
              "        buttonEl.style.display =\n",
              "          google.colab.kernel.accessAllowed ? 'block' : 'none';\n",
              "\n",
              "        async function convertToInteractive(key) {\n",
              "          const element = document.querySelector('#df-5b503af9-bae8-4b1a-80fd-62bb44b19f5b');\n",
              "          const dataTable =\n",
              "            await google.colab.kernel.invokeFunction('convertToInteractive',\n",
              "                                                     [key], {});\n",
              "          if (!dataTable) return;\n",
              "\n",
              "          const docLinkHtml = 'Like what you see? Visit the ' +\n",
              "            '<a target=\"_blank\" href=https://colab.research.google.com/notebooks/data_table.ipynb>data table notebook</a>'\n",
              "            + ' to learn more about interactive tables.';\n",
              "          element.innerHTML = '';\n",
              "          dataTable['output_type'] = 'display_data';\n",
              "          await google.colab.output.renderOutput(dataTable, element);\n",
              "          const docLink = document.createElement('div');\n",
              "          docLink.innerHTML = docLinkHtml;\n",
              "          element.appendChild(docLink);\n",
              "        }\n",
              "      </script>\n",
              "    </div>\n",
              "  </div>\n",
              "  "
            ]
          },
          "metadata": {},
          "execution_count": 8
        }
      ],
      "source": [
        "df.head(5)"
      ]
    },
    {
      "cell_type": "markdown",
      "metadata": {
        "id": "LKq6eVU3mXSL"
      },
      "source": [
        "# Encoding The Data "
      ]
    },
    {
      "cell_type": "code",
      "execution_count": 9,
      "metadata": {
        "colab": {
          "base_uri": "https://localhost:8080/",
          "height": 554
        },
        "id": "0gMNI6x9HV4k",
        "outputId": "837a6ee8-43d8-4b6e-f977-16e5eb523a29"
      },
      "outputs": [
        {
          "output_type": "execute_result",
          "data": {
            "text/plain": [
              "                                                    Text  anger  fear  happy  \\\n",
              "0                                  didnt feel humiliated      0     0      0   \n",
              "1      go feeling hopeless damned hopeful around some...      0     0      0   \n",
              "2              im grabbing minute post feel greedy wrong      1     0      0   \n",
              "3      ever feeling nostalgic fireplace know still pr...      0     0      0   \n",
              "4                                        feeling grouchy      1     0      0   \n",
              "...                                                  ...    ...   ...    ...   \n",
              "21454                         Melissa stared friend dism      0     1      0   \n",
              "21455  Successive state elections seen governing part...      0     1      0   \n",
              "21456                           Vincent irritated dismay      0     1      0   \n",
              "21457         KendallHume turned back face dismayed coup      0     1      0   \n",
              "21458                                I dismayed  surpris      0     1      0   \n",
              "\n",
              "       love  sadness  surprise  \n",
              "0         0        1         0  \n",
              "1         0        1         0  \n",
              "2         0        0         0  \n",
              "3         1        0         0  \n",
              "4         0        0         0  \n",
              "...     ...      ...       ...  \n",
              "21454     0        0         0  \n",
              "21455     0        0         0  \n",
              "21456     0        0         0  \n",
              "21457     0        0         0  \n",
              "21458     0        0         0  \n",
              "\n",
              "[21459 rows x 7 columns]"
            ],
            "text/html": [
              "\n",
              "  <div id=\"df-af23f9b7-345c-4039-9f8e-5deb3094094b\">\n",
              "    <div class=\"colab-df-container\">\n",
              "      <div>\n",
              "<style scoped>\n",
              "    .dataframe tbody tr th:only-of-type {\n",
              "        vertical-align: middle;\n",
              "    }\n",
              "\n",
              "    .dataframe tbody tr th {\n",
              "        vertical-align: top;\n",
              "    }\n",
              "\n",
              "    .dataframe thead th {\n",
              "        text-align: right;\n",
              "    }\n",
              "</style>\n",
              "<table border=\"1\" class=\"dataframe\">\n",
              "  <thead>\n",
              "    <tr style=\"text-align: right;\">\n",
              "      <th></th>\n",
              "      <th>Text</th>\n",
              "      <th>anger</th>\n",
              "      <th>fear</th>\n",
              "      <th>happy</th>\n",
              "      <th>love</th>\n",
              "      <th>sadness</th>\n",
              "      <th>surprise</th>\n",
              "    </tr>\n",
              "  </thead>\n",
              "  <tbody>\n",
              "    <tr>\n",
              "      <th>0</th>\n",
              "      <td>didnt feel humiliated</td>\n",
              "      <td>0</td>\n",
              "      <td>0</td>\n",
              "      <td>0</td>\n",
              "      <td>0</td>\n",
              "      <td>1</td>\n",
              "      <td>0</td>\n",
              "    </tr>\n",
              "    <tr>\n",
              "      <th>1</th>\n",
              "      <td>go feeling hopeless damned hopeful around some...</td>\n",
              "      <td>0</td>\n",
              "      <td>0</td>\n",
              "      <td>0</td>\n",
              "      <td>0</td>\n",
              "      <td>1</td>\n",
              "      <td>0</td>\n",
              "    </tr>\n",
              "    <tr>\n",
              "      <th>2</th>\n",
              "      <td>im grabbing minute post feel greedy wrong</td>\n",
              "      <td>1</td>\n",
              "      <td>0</td>\n",
              "      <td>0</td>\n",
              "      <td>0</td>\n",
              "      <td>0</td>\n",
              "      <td>0</td>\n",
              "    </tr>\n",
              "    <tr>\n",
              "      <th>3</th>\n",
              "      <td>ever feeling nostalgic fireplace know still pr...</td>\n",
              "      <td>0</td>\n",
              "      <td>0</td>\n",
              "      <td>0</td>\n",
              "      <td>1</td>\n",
              "      <td>0</td>\n",
              "      <td>0</td>\n",
              "    </tr>\n",
              "    <tr>\n",
              "      <th>4</th>\n",
              "      <td>feeling grouchy</td>\n",
              "      <td>1</td>\n",
              "      <td>0</td>\n",
              "      <td>0</td>\n",
              "      <td>0</td>\n",
              "      <td>0</td>\n",
              "      <td>0</td>\n",
              "    </tr>\n",
              "    <tr>\n",
              "      <th>...</th>\n",
              "      <td>...</td>\n",
              "      <td>...</td>\n",
              "      <td>...</td>\n",
              "      <td>...</td>\n",
              "      <td>...</td>\n",
              "      <td>...</td>\n",
              "      <td>...</td>\n",
              "    </tr>\n",
              "    <tr>\n",
              "      <th>21454</th>\n",
              "      <td>Melissa stared friend dism</td>\n",
              "      <td>0</td>\n",
              "      <td>1</td>\n",
              "      <td>0</td>\n",
              "      <td>0</td>\n",
              "      <td>0</td>\n",
              "      <td>0</td>\n",
              "    </tr>\n",
              "    <tr>\n",
              "      <th>21455</th>\n",
              "      <td>Successive state elections seen governing part...</td>\n",
              "      <td>0</td>\n",
              "      <td>1</td>\n",
              "      <td>0</td>\n",
              "      <td>0</td>\n",
              "      <td>0</td>\n",
              "      <td>0</td>\n",
              "    </tr>\n",
              "    <tr>\n",
              "      <th>21456</th>\n",
              "      <td>Vincent irritated dismay</td>\n",
              "      <td>0</td>\n",
              "      <td>1</td>\n",
              "      <td>0</td>\n",
              "      <td>0</td>\n",
              "      <td>0</td>\n",
              "      <td>0</td>\n",
              "    </tr>\n",
              "    <tr>\n",
              "      <th>21457</th>\n",
              "      <td>KendallHume turned back face dismayed coup</td>\n",
              "      <td>0</td>\n",
              "      <td>1</td>\n",
              "      <td>0</td>\n",
              "      <td>0</td>\n",
              "      <td>0</td>\n",
              "      <td>0</td>\n",
              "    </tr>\n",
              "    <tr>\n",
              "      <th>21458</th>\n",
              "      <td>I dismayed  surpris</td>\n",
              "      <td>0</td>\n",
              "      <td>1</td>\n",
              "      <td>0</td>\n",
              "      <td>0</td>\n",
              "      <td>0</td>\n",
              "      <td>0</td>\n",
              "    </tr>\n",
              "  </tbody>\n",
              "</table>\n",
              "<p>21459 rows × 7 columns</p>\n",
              "</div>\n",
              "      <button class=\"colab-df-convert\" onclick=\"convertToInteractive('df-af23f9b7-345c-4039-9f8e-5deb3094094b')\"\n",
              "              title=\"Convert this dataframe to an interactive table.\"\n",
              "              style=\"display:none;\">\n",
              "        \n",
              "  <svg xmlns=\"http://www.w3.org/2000/svg\" height=\"24px\"viewBox=\"0 0 24 24\"\n",
              "       width=\"24px\">\n",
              "    <path d=\"M0 0h24v24H0V0z\" fill=\"none\"/>\n",
              "    <path d=\"M18.56 5.44l.94 2.06.94-2.06 2.06-.94-2.06-.94-.94-2.06-.94 2.06-2.06.94zm-11 1L8.5 8.5l.94-2.06 2.06-.94-2.06-.94L8.5 2.5l-.94 2.06-2.06.94zm10 10l.94 2.06.94-2.06 2.06-.94-2.06-.94-.94-2.06-.94 2.06-2.06.94z\"/><path d=\"M17.41 7.96l-1.37-1.37c-.4-.4-.92-.59-1.43-.59-.52 0-1.04.2-1.43.59L10.3 9.45l-7.72 7.72c-.78.78-.78 2.05 0 2.83L4 21.41c.39.39.9.59 1.41.59.51 0 1.02-.2 1.41-.59l7.78-7.78 2.81-2.81c.8-.78.8-2.07 0-2.86zM5.41 20L4 18.59l7.72-7.72 1.47 1.35L5.41 20z\"/>\n",
              "  </svg>\n",
              "      </button>\n",
              "      \n",
              "  <style>\n",
              "    .colab-df-container {\n",
              "      display:flex;\n",
              "      flex-wrap:wrap;\n",
              "      gap: 12px;\n",
              "    }\n",
              "\n",
              "    .colab-df-convert {\n",
              "      background-color: #E8F0FE;\n",
              "      border: none;\n",
              "      border-radius: 50%;\n",
              "      cursor: pointer;\n",
              "      display: none;\n",
              "      fill: #1967D2;\n",
              "      height: 32px;\n",
              "      padding: 0 0 0 0;\n",
              "      width: 32px;\n",
              "    }\n",
              "\n",
              "    .colab-df-convert:hover {\n",
              "      background-color: #E2EBFA;\n",
              "      box-shadow: 0px 1px 2px rgba(60, 64, 67, 0.3), 0px 1px 3px 1px rgba(60, 64, 67, 0.15);\n",
              "      fill: #174EA6;\n",
              "    }\n",
              "\n",
              "    [theme=dark] .colab-df-convert {\n",
              "      background-color: #3B4455;\n",
              "      fill: #D2E3FC;\n",
              "    }\n",
              "\n",
              "    [theme=dark] .colab-df-convert:hover {\n",
              "      background-color: #434B5C;\n",
              "      box-shadow: 0px 1px 3px 1px rgba(0, 0, 0, 0.15);\n",
              "      filter: drop-shadow(0px 1px 2px rgba(0, 0, 0, 0.3));\n",
              "      fill: #FFFFFF;\n",
              "    }\n",
              "  </style>\n",
              "\n",
              "      <script>\n",
              "        const buttonEl =\n",
              "          document.querySelector('#df-af23f9b7-345c-4039-9f8e-5deb3094094b button.colab-df-convert');\n",
              "        buttonEl.style.display =\n",
              "          google.colab.kernel.accessAllowed ? 'block' : 'none';\n",
              "\n",
              "        async function convertToInteractive(key) {\n",
              "          const element = document.querySelector('#df-af23f9b7-345c-4039-9f8e-5deb3094094b');\n",
              "          const dataTable =\n",
              "            await google.colab.kernel.invokeFunction('convertToInteractive',\n",
              "                                                     [key], {});\n",
              "          if (!dataTable) return;\n",
              "\n",
              "          const docLinkHtml = 'Like what you see? Visit the ' +\n",
              "            '<a target=\"_blank\" href=https://colab.research.google.com/notebooks/data_table.ipynb>data table notebook</a>'\n",
              "            + ' to learn more about interactive tables.';\n",
              "          element.innerHTML = '';\n",
              "          dataTable['output_type'] = 'display_data';\n",
              "          await google.colab.output.renderOutput(dataTable, element);\n",
              "          const docLink = document.createElement('div');\n",
              "          docLink.innerHTML = docLinkHtml;\n",
              "          element.appendChild(docLink);\n",
              "        }\n",
              "      </script>\n",
              "    </div>\n",
              "  </div>\n",
              "  "
            ]
          },
          "metadata": {},
          "execution_count": 9
        }
      ],
      "source": [
        "# Change the categorical label to numeric\n",
        "category = pd.get_dummies(df.Emotion)\n",
        "df = pd.concat([df, category], axis=1)\n",
        "df = df.drop(columns='Emotion')\n",
        "df"
      ]
    },
    {
      "cell_type": "code",
      "execution_count": 10,
      "metadata": {
        "id": "vUvVXXs0ILuM"
      },
      "outputs": [],
      "source": [
        "# Change dataframe to numpy array data type\n",
        "teks = df['Text'].values\n",
        "label = df[['anger', 'fear', 'happy', 'love', 'sadness', 'surprise']].values"
      ]
    },
    {
      "cell_type": "code",
      "execution_count": 11,
      "metadata": {
        "colab": {
          "base_uri": "https://localhost:8080/",
          "height": 310
        },
        "id": "-1rISPdFgfic",
        "outputId": "21c590f6-60ec-4eae-e7cd-40ba0ac5b26d"
      },
      "outputs": [
        {
          "output_type": "display_data",
          "data": {
            "text/plain": [
              "<Figure size 720x720 with 1 Axes>"
            ],
            "image/png": "[encoded data removed]"
          },
          "metadata": {
            "needs_background": "light"
          }
        }
      ],
      "source": [
        "# Visualize the text\n",
        "wordcloud = WordCloud(background_color=\"white\").generate(str(teks))\n",
        "plt.figure(figsize=(10,10))\n",
        "plt.imshow(wordcloud, interpolation='bilinear')\n",
        "plt.axis(\"off\")\n",
        "plt.show()"
      ]
    },
    {
      "cell_type": "code",
      "execution_count": 12,
      "metadata": {
        "id": "WjHbIrE2IV9Q"
      },
      "outputs": [],
      "source": [
        "# Splitting data into training and testing data\n",
        "from sklearn.model_selection import train_test_split\n",
        "teks_train, teks_test, label_train, label_test = train_test_split(teks, label, test_size=0.2, shuffle=True)"
      ]
    },
    {
      "cell_type": "markdown",
      "metadata": {
        "id": "9-t4l17IOuM6"
      },
      "source": [
        "# Using Tokenizer Function"
      ]
    },
    {
      "cell_type": "code",
      "execution_count": 13,
      "metadata": {
        "id": "3fz3T6xsIYYO"
      },
      "outputs": [],
      "source": [
        "from tensorflow.keras.preprocessing.text import Tokenizer\n",
        "from tensorflow.keras.preprocessing.sequence import pad_sequences\n",
        "\n",
        "# Convert words to numeric numbers\n",
        "tokenizer = Tokenizer(num_words=2000, oov_token='x')\n",
        "tokenizer.fit_on_texts(teks_train)\n",
        "tokenizer.fit_on_texts(teks_test)\n",
        "\n",
        "# Create an array containing a collection of tokens according to the words in the sentence\n",
        "sekuens_train = tokenizer.texts_to_sequences(teks_train)\n",
        "sekuens_test = tokenizer.texts_to_sequences(teks_test)\n",
        "\n",
        "# Change the sequence to have the same length\n",
        "padded_train = pad_sequences(sekuens_train)               \n",
        "padded_test = pad_sequences(sekuens_test)"
      ]
    },
    {
      "cell_type": "markdown",
      "metadata": {
        "id": "KmxaJp4uPLTW"
      },
      "source": [
        "# Building Model"
      ]
    },
    {
      "cell_type": "code",
      "execution_count": 14,
      "metadata": {
        "colab": {
          "base_uri": "https://localhost:8080/"
        },
        "id": "2YSsoU9wIiw6",
        "outputId": "56e9a0e9-1ccf-49d3-ddf8-60312f600129"
      },
      "outputs": [
        {
          "output_type": "stream",
          "name": "stdout",
          "text": [
            "Model: \"sequential\"\n",
            "_________________________________________________________________\n",
            " Layer (type)                Output Shape              Param #   \n",
            "=================================================================\n",
            " embedding (Embedding)       (None, None, 16)          32000     \n",
            "                                                                 \n",
            " bidirectional (Bidirectiona  (None, None, 128)        41472     \n",
            " l)                                                              \n",
            "                                                                 \n",
            " global_average_pooling1d (G  (None, 128)              0         \n",
            " lobalAveragePooling1D)                                          \n",
            "                                                                 \n",
            " dense (Dense)               (None, 128)               16512     \n",
            "                                                                 \n",
            " dense_1 (Dense)             (None, 64)                8256      \n",
            "                                                                 \n",
            " dense_2 (Dense)             (None, 6)                 390       \n",
            "                                                                 \n",
            "=================================================================\n",
            "Total params: 98,630\n",
            "Trainable params: 98,630\n",
            "Non-trainable params: 0\n",
            "_________________________________________________________________\n"
          ]
        }
      ],
      "source": [
        "model = tf.keras.Sequential([\n",
        "    tf.keras.layers.Embedding(input_dim=2000, output_dim=16), # to understand the meaning in each word and group them with similar meanings\n",
        "    tf.keras.layers.Bidirectional(tf.keras.layers.LSTM(64, return_sequences=True, recurrent_dropout=0.4)), # Long Short-Term Memory\n",
        "    tf.keras.layers.GlobalAveragePooling1D(),\n",
        "    tf.keras.layers.Dense(128, activation='relu'),\n",
        "    tf.keras.layers.Dense(64, activation='relu'),\n",
        "    tf.keras.layers.Dense(6, activation='softmax')\n",
        "])\n",
        "model.compile(loss='categorical_crossentropy',\n",
        "              optimizer='Adam',\n",
        "              metrics=['accuracy'])\n",
        "model.summary()"
      ]
    },
    {
      "cell_type": "code",
      "execution_count": 15,
      "metadata": {
        "id": "Uin0QkkdIrIW"
      },
      "outputs": [],
      "source": [
        "# The callback is used to have the epoch stop when accuracy is reached\n",
        "class myCallback(tf.keras.callbacks.Callback):\n",
        "  def on_epoch_end(self, epoch, logs={}):\n",
        "    if(logs.get('accuracy')>0.98):\n",
        "      print(\"\\nAccuracy has been optimal\")\n",
        "      self.model.stop_training = True\n",
        "callbacks = myCallback()"
      ]
    },
    {
      "cell_type": "markdown",
      "metadata": {
        "id": "Bt_nvET8Wv_A"
      },
      "source": [
        "# Fitting Model"
      ]
    },
    {
      "cell_type": "code",
      "execution_count": 16,
      "metadata": {
        "colab": {
          "base_uri": "https://localhost:8080/"
        },
        "id": "KOi5YUTJIv8F",
        "outputId": "e4108e7e-f2f0-43fc-eb5f-a8d8e23c09ae"
      },
      "outputs": [
        {
          "output_type": "stream",
          "name": "stdout",
          "text": [
            "Epoch 1/50\n",
            "1073/1073 - 70s - loss: 1.3076 - accuracy: 0.3903 - val_loss: 1.1038 - val_accuracy: 0.4536 - 70s/epoch - 65ms/step\n",
            "Epoch 2/50\n",
            "1073/1073 - 63s - loss: 0.9758 - accuracy: 0.5463 - val_loss: 0.8800 - val_accuracy: 0.6785 - 63s/epoch - 58ms/step\n",
            "Epoch 3/50\n",
            "1073/1073 - 63s - loss: 0.6438 - accuracy: 0.8040 - val_loss: 0.5889 - val_accuracy: 0.8341 - 63s/epoch - 59ms/step\n",
            "Epoch 4/50\n",
            "1073/1073 - 64s - loss: 0.4881 - accuracy: 0.8550 - val_loss: 0.4937 - val_accuracy: 0.8486 - 64s/epoch - 60ms/step\n",
            "Epoch 5/50\n",
            "1073/1073 - 63s - loss: 0.3881 - accuracy: 0.8767 - val_loss: 0.4358 - val_accuracy: 0.8646 - 63s/epoch - 59ms/step\n",
            "Epoch 6/50\n",
            "1073/1073 - 63s - loss: 0.3429 - accuracy: 0.8838 - val_loss: 0.3820 - val_accuracy: 0.8670 - 63s/epoch - 59ms/step\n",
            "Epoch 7/50\n",
            "1073/1073 - 63s - loss: 0.2970 - accuracy: 0.8977 - val_loss: 0.4068 - val_accuracy: 0.8705 - 63s/epoch - 58ms/step\n",
            "Epoch 8/50\n",
            "1073/1073 - 64s - loss: 0.2635 - accuracy: 0.9058 - val_loss: 0.3719 - val_accuracy: 0.8700 - 64s/epoch - 59ms/step\n",
            "Epoch 9/50\n",
            "1073/1073 - 63s - loss: 0.2350 - accuracy: 0.9168 - val_loss: 0.3468 - val_accuracy: 0.8809 - 63s/epoch - 59ms/step\n",
            "Epoch 10/50\n",
            "1073/1073 - 64s - loss: 0.2182 - accuracy: 0.9203 - val_loss: 0.3574 - val_accuracy: 0.8877 - 64s/epoch - 59ms/step\n",
            "Epoch 11/50\n",
            "1073/1073 - 63s - loss: 0.1999 - accuracy: 0.9284 - val_loss: 0.3510 - val_accuracy: 0.8891 - 63s/epoch - 59ms/step\n",
            "Epoch 12/50\n",
            "1073/1073 - 64s - loss: 0.1790 - accuracy: 0.9330 - val_loss: 0.3861 - val_accuracy: 0.8842 - 64s/epoch - 60ms/step\n",
            "Epoch 13/50\n",
            "1073/1073 - 63s - loss: 0.1704 - accuracy: 0.9353 - val_loss: 0.3452 - val_accuracy: 0.8851 - 63s/epoch - 59ms/step\n",
            "Epoch 14/50\n",
            "1073/1073 - 63s - loss: 0.1547 - accuracy: 0.9405 - val_loss: 0.3555 - val_accuracy: 0.8884 - 63s/epoch - 58ms/step\n",
            "Epoch 15/50\n",
            "1073/1073 - 63s - loss: 0.1454 - accuracy: 0.9432 - val_loss: 0.4274 - val_accuracy: 0.8812 - 63s/epoch - 59ms/step\n",
            "Epoch 16/50\n",
            "1073/1073 - 64s - loss: 0.1414 - accuracy: 0.9455 - val_loss: 0.4297 - val_accuracy: 0.8842 - 64s/epoch - 60ms/step\n",
            "Epoch 17/50\n",
            "1073/1073 - 63s - loss: 0.1245 - accuracy: 0.9536 - val_loss: 0.4053 - val_accuracy: 0.8798 - 63s/epoch - 59ms/step\n",
            "Epoch 18/50\n",
            "1073/1073 - 63s - loss: 0.1217 - accuracy: 0.9537 - val_loss: 0.4313 - val_accuracy: 0.8830 - 63s/epoch - 59ms/step\n",
            "Epoch 19/50\n",
            "1073/1073 - 64s - loss: 0.1121 - accuracy: 0.9569 - val_loss: 0.4323 - val_accuracy: 0.8856 - 64s/epoch - 59ms/step\n",
            "Epoch 20/50\n",
            "1073/1073 - 64s - loss: 0.1087 - accuracy: 0.9570 - val_loss: 0.4231 - val_accuracy: 0.8900 - 64s/epoch - 60ms/step\n",
            "Epoch 21/50\n",
            "1073/1073 - 63s - loss: 0.0969 - accuracy: 0.9626 - val_loss: 0.4821 - val_accuracy: 0.8861 - 63s/epoch - 59ms/step\n",
            "Epoch 22/50\n",
            "1073/1073 - 63s - loss: 0.0946 - accuracy: 0.9638 - val_loss: 0.4392 - val_accuracy: 0.8882 - 63s/epoch - 59ms/step\n",
            "Epoch 23/50\n",
            "1073/1073 - 65s - loss: 0.0880 - accuracy: 0.9684 - val_loss: 0.4772 - val_accuracy: 0.8842 - 65s/epoch - 60ms/step\n",
            "Epoch 24/50\n",
            "1073/1073 - 64s - loss: 0.0834 - accuracy: 0.9676 - val_loss: 0.4960 - val_accuracy: 0.8823 - 64s/epoch - 59ms/step\n",
            "Epoch 25/50\n",
            "1073/1073 - 64s - loss: 0.0831 - accuracy: 0.9695 - val_loss: 0.4931 - val_accuracy: 0.8835 - 64s/epoch - 59ms/step\n",
            "Epoch 26/50\n",
            "1073/1073 - 63s - loss: 0.0748 - accuracy: 0.9719 - val_loss: 0.5142 - val_accuracy: 0.8821 - 63s/epoch - 59ms/step\n",
            "Epoch 27/50\n",
            "1073/1073 - 64s - loss: 0.0728 - accuracy: 0.9716 - val_loss: 0.5170 - val_accuracy: 0.8821 - 64s/epoch - 60ms/step\n",
            "Epoch 28/50\n",
            "1073/1073 - 63s - loss: 0.0678 - accuracy: 0.9744 - val_loss: 0.5904 - val_accuracy: 0.8802 - 63s/epoch - 59ms/step\n",
            "Epoch 29/50\n",
            "1073/1073 - 63s - loss: 0.0657 - accuracy: 0.9749 - val_loss: 0.5567 - val_accuracy: 0.8835 - 63s/epoch - 59ms/step\n",
            "Epoch 30/50\n",
            "1073/1073 - 62s - loss: 0.0599 - accuracy: 0.9772 - val_loss: 0.5666 - val_accuracy: 0.8847 - 62s/epoch - 58ms/step\n",
            "Epoch 31/50\n",
            "1073/1073 - 64s - loss: 0.0567 - accuracy: 0.9782 - val_loss: 0.5856 - val_accuracy: 0.8772 - 64s/epoch - 60ms/step\n",
            "Epoch 32/50\n",
            "1073/1073 - 63s - loss: 0.0571 - accuracy: 0.9787 - val_loss: 0.5640 - val_accuracy: 0.8805 - 63s/epoch - 59ms/step\n",
            "Epoch 33/50\n",
            "1073/1073 - 63s - loss: 0.0538 - accuracy: 0.9793 - val_loss: 0.6014 - val_accuracy: 0.8826 - 63s/epoch - 59ms/step\n",
            "Epoch 34/50\n",
            "\n",
            "Accuracy has been optimal\n",
            "1073/1073 - 64s - loss: 0.0489 - accuracy: 0.9813 - val_loss: 0.6157 - val_accuracy: 0.8807 - 64s/epoch - 60ms/step\n"
          ]
        }
      ],
      "source": [
        "hist = model.fit(padded_train, label_train,\n",
        "                 epochs=50,\n",
        "                 batch_size=16,\n",
        "                 validation_data=(padded_test, label_test),\n",
        "                 verbose=2,\n",
        "                 shuffle=True,\n",
        "                 callbacks=[callbacks])"
      ]
    },
    {
      "cell_type": "markdown",
      "source": [
        "# Visualize The Model"
      ],
      "metadata": {
        "id": "wviZM_pD_gG3"
      }
    },
    {
      "cell_type": "code",
      "execution_count": 17,
      "metadata": {
        "colab": {
          "base_uri": "https://localhost:8080/",
          "height": 573
        },
        "id": "FQVfzku9I7MA",
        "outputId": "8d304aea-d42a-476a-eac0-bb311fcb8e5a"
      },
      "outputs": [
        {
          "output_type": "display_data",
          "data": {
            "text/plain": [
              "<Figure size 432x288 with 1 Axes>"
            ],
            "image/png": "[encoded data removed]"
          },
          "metadata": {
            "needs_background": "light"
          }
        },
        {
          "output_type": "display_data",
          "data": {
            "text/plain": [
              "<Figure size 432x288 with 1 Axes>"
            ],
            "image/png": "[encoded data removed]"
          },
          "metadata": {
            "needs_background": "light"
          }
        }
      ],
      "source": [
        "# Plot of Accuracy and Loss\n",
        "plt.plot(hist.history['accuracy'])\n",
        "plt.plot(hist.history['val_accuracy'])\n",
        "plt.title('Model accuracy')\n",
        "plt.ylabel('Accuracy')\n",
        "plt.xlabel('Epoch')\n",
        "plt.legend(['Train', 'Validation'], loc='lower right')\n",
        "plt.show()\n",
        "\n",
        "plt.plot(hist.history['loss'])\n",
        "plt.plot(hist.history['val_loss'])\n",
        "plt.title('Model Loss')\n",
        "plt.ylabel('loss')\n",
        "plt.xlabel('Epoch')\n",
        "plt.legend(['Train', 'Validation'], loc='lower right')\n",
        "plt.show()"
      ]
    },
    {
      "cell_type": "code",
      "execution_count": 17,
      "metadata": {
        "id": "OoXld5qQLx-O"
      },
      "outputs": [],
      "source": []
    }
  ],
  "metadata": {
    "colab": {
      "provenance": []
    },
    "kernelspec": {
      "display_name": "Python 3",
      "name": "python3"
    },
    "language_info": {
      "name": "python"
    }
  },
  "nbformat": 4,
  "nbformat_minor": 0
}